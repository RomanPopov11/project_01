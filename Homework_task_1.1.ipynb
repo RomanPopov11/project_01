{
  "nbformat": 4,
  "nbformat_minor": 0,
  "metadata": {
    "colab": {
      "provenance": []
    },
    "kernelspec": {
      "name": "python3",
      "display_name": "Python 3"
    },
    "language_info": {
      "name": "python"
    }
  },
  "cells": [
    {
      "cell_type": "code",
      "execution_count": 8,
      "metadata": {
        "colab": {
          "base_uri": "https://localhost:8080/"
        },
        "id": "YsDuvg-4KEZq",
        "outputId": "4fcaf922-2541-436c-cc5e-e8b03e1eebb6"
      },
      "outputs": [
        {
          "output_type": "stream",
          "name": "stdout",
          "text": [
            "Waste a Moment\n",
            "New Salvation\n",
            "Staying' Alive\n",
            "Start Me Up\n"
          ]
        }
      ],
      "source": [
        "my_favorite_songs = 'Waste a Moment, Staying\\' Alive, A Sorta Fairytale, Start Me Up, New Salvation'\n",
        "\n",
        "# Первый трек\n",
        "print(my_favorite_songs[0:14])\n",
        "\n",
        "# Последний трек\n",
        "print(my_favorite_songs[64:])\n",
        "\n",
        "# Второй трек\n",
        "print(my_favorite_songs[16:30])\n",
        "\n",
        "# Второй трек с конца\n",
        "print(my_favorite_songs[-26:-15])\n"
      ]
    }
  ]
}
