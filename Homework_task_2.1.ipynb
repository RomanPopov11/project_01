{
  "nbformat": 4,
  "nbformat_minor": 0,
  "metadata": {
    "colab": {
      "provenance": []
    },
    "kernelspec": {
      "name": "python3",
      "display_name": "Python 3"
    },
    "language_info": {
      "name": "python"
    }
  },
  "cells": [
    {
      "cell_type": "code",
      "execution_count": 15,
      "metadata": {
        "colab": {
          "base_uri": "https://localhost:8080/"
        },
        "id": "I4_jxGeZPYTK",
        "outputId": "9a559f37-c414-4885-bf11-c2cf41362b1e"
      },
      "outputs": [
        {
          "output_type": "stream",
          "name": "stdout",
          "text": [
            "Max number in the list is: 566\n",
            "Min number in the list is: -134\n"
          ]
        }
      ],
      "source": [
        "def maximum(numbers):\n",
        "    max_num = numbers[0]\n",
        "    for num in numbers:\n",
        "        if num > max_num:\n",
        "            max_num = num\n",
        "    return max_num\n",
        "\n",
        "def minimum(numbers):\n",
        "    min_num = numbers[0]\n",
        "    for num in numbers:\n",
        "        if num < min_num:\n",
        "            min_num = num\n",
        "    return min_num\n",
        "\n",
        "numbers = [4,6,2,1,9,63,-134,566]\n",
        "print(\"Max number in the list is:\", maximum(numbers))\n",
        "\n",
        "print(\"Min number in the list is:\", minimum(numbers))\n",
        "\n",
        "\n"
      ]
    }
  ]
}
