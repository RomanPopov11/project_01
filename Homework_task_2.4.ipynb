{
  "nbformat": 4,
  "nbformat_minor": 0,
  "metadata": {
    "colab": {
      "provenance": []
    },
    "kernelspec": {
      "name": "python3",
      "display_name": "Python 3"
    },
    "language_info": {
      "name": "python"
    }
  },
  "cells": [
    {
      "cell_type": "code",
      "execution_count": 36,
      "metadata": {
        "colab": {
          "base_uri": "https://localhost:8080/",
          "height": 36
        },
        "id": "I4_jxGeZPYTK",
        "outputId": "9d3fa0c4-2a37-4e0d-e8e4-401f4c2b13dc"
      },
      "outputs": [
        {
          "output_type": "execute_result",
          "data": {
            "text/plain": [
              "'Hi Hello'"
            ],
            "application/vnd.google.colaboratory.intrinsic+json": {
              "type": "string"
            }
          },
          "metadata": {},
          "execution_count": 36
        }
      ],
      "source": [
        "def remove_exclamation_marks(s):\n",
        "    \"\"\"\n",
        "    Функция, которая удаляет все восклицательные знаки из строки.\n",
        "    :param s: Исходная строка\n",
        "    :return: Строка без восклицательных знаков\n",
        "    \"\"\"\n",
        "    return s.replace('!', '')\n",
        "remove_exclamation_marks(\"Hi! Hello!\")"
      ]
    },
    {
      "cell_type": "code",
      "source": [
        "def remove_last_em(s):\n",
        "    \"\"\"\n",
        "    Функция, которая удаляет восклицательный знак из конца строки.\n",
        "    :param s: Исходная строка\n",
        "    :return: Строка без восклицательного знака в конце\n",
        "    \"\"\"\n",
        "    if s.endswith('!'):\n",
        "        return s[:-1]\n",
        "    return s\n",
        "remove_last_em(\"Hi!\")"
      ],
      "metadata": {
        "colab": {
          "base_uri": "https://localhost:8080/",
          "height": 36
        },
        "id": "8Cf9_I1yYYe8",
        "outputId": "2226eed5-047b-43fb-ca14-b7f24af0704d"
      },
      "execution_count": 38,
      "outputs": [
        {
          "output_type": "execute_result",
          "data": {
            "text/plain": [
              "'Hi'"
            ],
            "application/vnd.google.colaboratory.intrinsic+json": {
              "type": "string"
            }
          },
          "metadata": {},
          "execution_count": 38
        }
      ]
    }
  ]
}
