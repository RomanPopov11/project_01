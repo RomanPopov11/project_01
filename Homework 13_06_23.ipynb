{
  "nbformat": 4,
  "nbformat_minor": 0,
  "metadata": {
    "colab": {
      "provenance": []
    },
    "kernelspec": {
      "name": "python3",
      "display_name": "Python 3"
    },
    "language_info": {
      "name": "python"
    }
  },
  "cells": [
    {
      "cell_type": "code",
      "source": [
        "import sqlite3\n",
        "\n",
        "conn = sqlite3.connect('students.db')\n",
        "cursor = conn.cursor()\n",
        "cursor.execute(\"CREATE TABLE IF NOT EXISTS students (Student_Id INTEGER, Student_Name TEXT, School_Id INTEGER)\")\n",
        "students_data = [(201, 'Иван', 1), (202, 'Петр', 2), (203, 'Анастасия', 3), (204, 'Игорь', 4)]\n",
        "cursor.executemany(\"INSERT INTO students VALUES (?, ?, ?)\", students_data)\n",
        "conn.commit()\n",
        "def get_student_info(student_id):\n",
        "    cursor.execute(\"SELECT * FROM students WHERE Student_Id=?\", [student_id])\n",
        "    student = cursor.fetchone()\n",
        "    if student:\n",
        "        print(f\"ID студента: {student[0]}\\nИмя студента: {student[1]}\\nID школы: {student[2]}\")\n",
        "    else:\n",
        "        print(f\"Студента с ID {student_id} не найдено\")\n",
        "get_student_info(203)"
      ],
      "metadata": {
        "id": "XCG1Kp5hw_Aj",
        "colab": {
          "base_uri": "https://localhost:8080/"
        },
        "outputId": "50471dbd-ff66-4f9d-c3d0-b0f696e95546"
      },
      "execution_count": 206,
      "outputs": [
        {
          "output_type": "stream",
          "name": "stdout",
          "text": [
            "ID студента: 203\n",
            "Имя студента: Анастасия\n",
            "ID школы: 3\n"
          ]
        }
      ]
    }
  ]
}