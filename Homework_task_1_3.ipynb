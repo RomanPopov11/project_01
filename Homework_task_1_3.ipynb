{
  "nbformat": 4,
  "nbformat_minor": 0,
  "metadata": {
    "colab": {
      "provenance": []
    },
    "kernelspec": {
      "name": "python3",
      "display_name": "Python 3"
    },
    "language_info": {
      "name": "python"
    }
  },
  "cells": [
    {
      "cell_type": "code",
      "execution_count": 1,
      "metadata": {
        "colab": {
          "base_uri": "https://localhost:8080/"
        },
        "id": "_QQFNJyEV-la",
        "outputId": "c5d1ac3a-65fc-4e3e-be7a-ac3553c893ca"
      },
      "outputs": [
        {
          "output_type": "stream",
          "name": "stdout",
          "text": [
            "Введите номер месяца: 4\n",
            "Вы ввели апрель. 30 дней\n"
          ]
        }
      ],
      "source": [
        "month_days = {\n",
        "    1: 31,\n",
        "    2: 28,\n",
        "    3: 31,\n",
        "    4: 30,\n",
        "    5: 31,\n",
        "    6: 30,\n",
        "    7: 31,\n",
        "    8: 31,\n",
        "    9: 30,\n",
        "    10: 31,\n",
        "    11: 30,\n",
        "    12: 31\n",
        "}\n",
        "\n",
        "month_name = {\n",
        "    1: 'январь',\n",
        "    2: 'февраль',\n",
        "    3: 'март',\n",
        "    4: 'апрель',\n",
        "    5: 'май',\n",
        "    6: 'июнь',\n",
        "    7: 'июль',\n",
        "    8: 'август',\n",
        "    9: 'сентябрь',\n",
        "    10: 'октябрь',\n",
        "    11: 'ноябрь',\n",
        "    12: 'декабрь'\n",
        "}\n",
        "\n",
        "month_number = int(input('Введите номер месяца: '))\n",
        "if month_number in month_days:\n",
        "    days_number = month_days[month_number]\n",
        "    month = month_name[month_number]\n",
        "    print(f'Вы ввели {month}. {days_number} дней')\n",
        "else:\n",
        "    print('Такого месяца нет!')\n"
      ]
    }
  ]
}