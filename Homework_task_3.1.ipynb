{
  "nbformat": 4,
  "nbformat_minor": 0,
  "metadata": {
    "colab": {
      "provenance": []
    },
    "kernelspec": {
      "name": "python3",
      "display_name": "Python 3"
    },
    "language_info": {
      "name": "python"
    }
  },
  "cells": [
    {
      "cell_type": "code",
      "execution_count": 2,
      "metadata": {
        "colab": {
          "base_uri": "https://localhost:8080/"
        },
        "id": "rJo82SLa4FAb",
        "outputId": "81e748d0-5f3c-4251-ff5d-35acb74105a3"
      },
      "outputs": [
        {
          "output_type": "stream",
          "name": "stdout",
          "text": [
            "10\n",
            "10\n"
          ]
        }
      ],
      "source": [
        "class Matrix:\n",
        "    def __init__(self, rows, columns):\n",
        "        self.rows = rows\n",
        "        self.columns = columns\n",
        "        self.data = [[None for _ in range(columns)] for _ in range(rows)]\n",
        "\n",
        "    def set_value(self, row, column, value):\n",
        "        if 1 <= row <= self.rows and 1 <= column <= self.columns:\n",
        "            self.data[row-1][column-1] = value\n",
        "        else:\n",
        "            raise IndexError(\"Index out of range\")\n",
        "\n",
        "    def get_value(self, row, column):\n",
        "        if 1 <= row <= self.rows and 1 <= column <= self.columns:\n",
        "            return self.data[row-1][column-1]\n",
        "        else:\n",
        "            raise IndexError(\"Index out of range\")\n",
        "\n",
        "    def get_num_rows(self):\n",
        "        return self.rows\n",
        "\n",
        "    def get_num_columns(self):\n",
        "        return self.columns\n",
        "\n",
        "m = Matrix(10, 10)\n",
        "print(m.get_num_rows())\n",
        "print(m.get_num_columns())"
      ]
    }
  ]
}
