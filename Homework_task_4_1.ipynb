{
  "nbformat": 4,
  "nbformat_minor": 0,
  "metadata": {
    "colab": {
      "provenance": []
    },
    "kernelspec": {
      "name": "python3",
      "display_name": "Python 3"
    },
    "language_info": {
      "name": "python"
    }
  },
  "cells": [
    {
      "cell_type": "code",
      "execution_count": 2,
      "metadata": {
        "colab": {
          "base_uri": "https://localhost:8080/"
        },
        "id": "rlGl4r4y2Cil",
        "outputId": "e044104c-82d2-4dd6-da3d-62c4f3f214c8"
      },
      "outputs": [
        {
          "output_type": "stream",
          "name": "stdout",
          "text": [
            "   Student_id Student_name  School_id\n",
            "0         201         Иван          1\n",
            "1         202         Петр          2\n",
            "2         203    Анастасия          3\n",
            "3         204        Игорь          4\n"
          ]
        },
        {
          "output_type": "execute_result",
          "data": {
            "text/plain": [
              "4"
            ]
          },
          "metadata": {},
          "execution_count": 2
        }
      ],
      "source": [
        "import pandas as pd\n",
        "import sqlite3\n",
        "\n",
        "con1 = sqlite3.connect(\"Students.db\")\n",
        "tablestud = pd.read_sql(\"SELECT * FROM Students\",con1)\n",
        "print (tablestud)\n",
        "con2 = sqlite3.connect(\"teachers.db\")\n",
        "tablestud.to_sql(\"Students\",con2, index = False)"
      ]
    },
    {
      "cell_type": "code",
      "source": [
        "import sqlite3\n",
        "def get_stud(student_id):\n",
        "  con = sqlite3.connect(\"teachers.db\")\n",
        "  cur = con.cursor()\n",
        "  query = \"\"\"SELECT * FROM School JOIN Students ON School.School_id = Students.School_id WHERE Students.Student_id = ?\"\"\"\n",
        "  cur.execute(query,(student_id,))\n",
        "  rec = cur.fetchall()\n",
        "  print (rec)\n",
        "\n",
        "get_stud(201)"
      ],
      "metadata": {
        "colab": {
          "base_uri": "https://localhost:8080/"
        },
        "id": "r13spz6Y5kEa",
        "outputId": "2589a532-393f-4bac-9b3a-06e6c5f5988b"
      },
      "execution_count": 3,
      "outputs": [
        {
          "output_type": "stream",
          "name": "stdout",
          "text": [
            "[(1, 'Протон', 200, 201, 'Иван', 1)]\n"
          ]
        }
      ]
    },
    {
      "cell_type": "code",
      "source": [
        "import sqlite3\n",
        "\n",
        "def get_school_name(school_id):\n",
        "  con = sqlite3.connect(\"Schools.db\")\n",
        "  cur = con.cursor()\n",
        "  query = \"SELECT * FROM School WHERE School_Id = ?\"\n",
        "  cur.execute(query,(school_id,))\n",
        "  rec = cur.fetchone()\n",
        "  con.close()\n",
        "  return rec[1]\n",
        "\n",
        "def get_student(student_id):\n",
        "  con = sqlite3.connect(\"Students.db\")\n",
        "  cur = con.cursor()\n",
        "  query = \"SELECT * FROM Students WHERE Student_id = ?\"\n",
        "  cur.execute(query,(student_id,))\n",
        "  rec = cur.fetchall()\n",
        "  for raw in rec:\n",
        "    print (\"ИД Студ\", raw[0])\n",
        "    print (\"Имя студ\", raw[1])\n",
        "    print (\"ИД школы\", raw[2])\n",
        "    print (\"Название школы\",get_school_name(raw[2]))\n",
        "  con.close()\n",
        "\n",
        "get_student(201)"
      ],
      "metadata": {
        "colab": {
          "base_uri": "https://localhost:8080/"
        },
        "id": "2nt5lsS8688y",
        "outputId": "5be2c526-4fd0-4b6d-a939-eec81bc166d7"
      },
      "execution_count": 7,
      "outputs": [
        {
          "output_type": "stream",
          "name": "stdout",
          "text": [
            "ИД Студ 201\n",
            "Имя студ Иван\n",
            "ИД школы 1\n",
            "Название школы Протон\n"
          ]
        }
      ]
    }
  ]
}