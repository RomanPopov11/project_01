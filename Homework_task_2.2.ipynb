{
  "nbformat": 4,
  "nbformat_minor": 0,
  "metadata": {
    "colab": {
      "provenance": []
    },
    "kernelspec": {
      "name": "python3",
      "display_name": "Python 3"
    },
    "language_info": {
      "name": "python"
    }
  },
  "cells": [
    {
      "cell_type": "code",
      "execution_count": 13,
      "metadata": {
        "colab": {
          "base_uri": "https://localhost:8080/"
        },
        "id": "I4_jxGeZPYTK",
        "outputId": "4b3d9a98-3516-4d29-bdbb-e1c5bd11d41d"
      },
      "outputs": [
        {
          "output_type": "stream",
          "name": "stdout",
          "text": [
            "4\n"
          ]
        }
      ],
      "source": [
        "def quarter_of(month):\n",
        "    quarters = {1:1, 2:1, 3:1,\n",
        "               4:2, 5:2, 6:2,\n",
        "               7:3, 8:3, 9:3,\n",
        "               10:4, 11:4, 12:4}\n",
        "    return quarters.get(month)\n",
        "month = 12\n",
        "quarter = quarter_of(month)\n",
        "print(quarter)"
      ]
    }
  ]
}
