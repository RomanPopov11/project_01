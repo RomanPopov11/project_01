{
  "nbformat": 4,
  "nbformat_minor": 0,
  "metadata": {
    "colab": {
      "provenance": []
    },
    "kernelspec": {
      "name": "python3",
      "display_name": "Python 3"
    },
    "language_info": {
      "name": "python"
    }
  },
  "cells": [
    {
      "cell_type": "code",
      "execution_count": 35,
      "metadata": {
        "colab": {
          "base_uri": "https://localhost:8080/",
          "height": 36
        },
        "id": "I4_jxGeZPYTK",
        "outputId": "580823f4-8c58-4204-e910-e2d578858b75"
      },
      "outputs": [
        {
          "output_type": "execute_result",
          "data": {
            "text/plain": [
              "'Five'"
            ],
            "application/vnd.google.colaboratory.intrinsic+json": {
              "type": "string"
            }
          },
          "metadata": {},
          "execution_count": 35
        }
      ],
      "source": [
        "def switch_it_up(number):\n",
        "    # Словарь: числа в качестве ключей и слова в качестве значений\n",
        "    numbers_dict = {\n",
        "        0: 'Zero',\n",
        "        1: 'One',\n",
        "        2: 'Two',\n",
        "        3: 'Three',\n",
        "        4: 'Four',\n",
        "        5: 'Five',\n",
        "        6: 'Six',\n",
        "        7: 'Seven',\n",
        "        8: 'Eight',\n",
        "        9: 'Nine'\n",
        "    }\n",
        "    \n",
        "    # Проверяем, содержится ли переданное число в словаре\n",
        "    if number in numbers_dict:\n",
        "        return numbers_dict[number]\n",
        "    else:\n",
        "        # Если число не найдено, возвращаем None\n",
        "        return None\n",
        "\n",
        "switch_it_up(5)\n"
      ]
    }
  ]
}
